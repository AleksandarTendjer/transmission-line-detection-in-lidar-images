{
 "cells": [
  {
   "cell_type": "code",
   "execution_count": 3,
   "metadata": {},
   "outputs": [],
   "source": [
    "import laspy\n",
    "import numpy as np\n",
    "from scipy.spatial import cKDTree\n",
    "import datetime\n",
    "import sys\n",
    "from mpl_toolkits.mplot3d.axes3d import *\n",
    "import matplotlib.pyplot as plt\n",
    "from sklearn import linear_model\n",
    "from skimage.measure import LineModelND, ransac\n",
    "import pylas\n",
    "#unpacking the las file\n",
    "las = pylas.read(r'GKR_547_155.laz')    \n",
    "las = pylas.convert(las)    \n",
    "las.write(r'GKR_547_155.las')\n"
   ]
  },
  {
   "cell_type": "code",
   "execution_count": 6,
   "metadata": {},
   "outputs": [
    {
     "name": "stdout",
     "output_type": "stream",
     "text": [
      "<LasData(1.2, point fmt: <PointFormat(1)>, 7174192 points, 0 vlrs)>\n",
      "[(54700034, 15508639, 29200,  86, 82, 2, 25, 0, 2131, 1.05257673e+08)\n",
      " (54700080, 15508673, 29203, 190, 82, 2, 25, 0, 2131, 1.05257673e+08)\n",
      " (54700126, 15508707, 29200, 189, 73, 2, 25, 0, 2131, 1.05257673e+08) ...\n",
      " (54799825, 15599979, 28207, 204, 73, 2, 29, 0, 2140, 1.05263193e+08)\n",
      " (54799769, 15599983, 28205, 271, 73, 2, 29, 0, 2140, 1.05263193e+08)\n",
      " (54799716, 15599986, 28207, 220, 73, 2, 29, 0, 2140, 1.05263193e+08)]\n"
     ]
    }
   ],
   "source": [
    "#inputLas = laspy.file.File(r'C:\\Users\\WhyteRabyte\\Desktop\\FERIPredmeti2Letnik\\1Semester\\AlgoritmiObdelavePodatkovDaljinskegaZaznavanja\\vaje\\Vaja4Py\\GKR_547_155.las', mode=\"r\")\n",
    "#allPoints = inputLas.points.copy()\n",
    "with pylas.open(r'GKR_547_155.las') as f:\n",
    "    if f.header.point_count < 10 ** 8:\n",
    "        las = f.read()\n",
    "print(las)\n",
    "lasPoints=las.points.copy()\n",
    "print(lasPoints)"
   ]
  },
  {
   "cell_type": "code",
   "execution_count": null,
   "metadata": {},
   "outputs": [],
   "source": []
  }
 ],
 "metadata": {
  "kernelspec": {
   "display_name": "Python 3",
   "language": "python",
   "name": "python3"
  },
  "language_info": {
   "codemirror_mode": {
    "name": "ipython",
    "version": 3
   },
   "file_extension": ".py",
   "mimetype": "text/x-python",
   "name": "python",
   "nbconvert_exporter": "python",
   "pygments_lexer": "ipython3",
   "version": "3.7.9"
  }
 },
 "nbformat": 4,
 "nbformat_minor": 4
}
